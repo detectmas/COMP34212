{
  "nbformat": 4,
  "nbformat_minor": 0,
  "metadata": {
    "colab": {
      "provenance": [],
      "gpuType": "L4"
    },
    "kernelspec": {
      "name": "python3",
      "display_name": "Python 3"
    },
    "language_info": {
      "name": "python"
    },
    "accelerator": "GPU"
  },
  "cells": [
    {
      "cell_type": "code",
      "execution_count": 1,
      "metadata": {
        "colab": {
          "base_uri": "https://localhost:8080/"
        },
        "id": "I-zQjNZxsZp1",
        "outputId": "c65d3eff-420c-4ebf-e636-b2638c8700f0"
      },
      "outputs": [
        {
          "output_type": "stream",
          "name": "stdout",
          "text": [
            "Libraries imported.\n"
          ]
        }
      ],
      "source": [
        "# Importing necessary libraries\n",
        "from tensorflow.keras.datasets import cifar10\n",
        "from tensorflow.keras.models import Sequential\n",
        "from tensorflow.keras.layers import Dense, Dropout, Activation, Flatten, LeakyReLU\n",
        "from tensorflow.keras.layers import Conv2D, MaxPooling2D, Activation\n",
        "from tensorflow.keras.optimizers.legacy import RMSprop, Adam\n",
        "from tensorflow.keras.utils import to_categorical\n",
        "import numpy as np\n",
        "import matplotlib.pyplot as plt\n",
        "\n",
        "# importing of service libraries\n",
        "import numpy as np\n",
        "import matplotlib.pyplot as plt\n",
        "\n",
        "print('Libraries imported.')"
      ]
    },
    {
      "cell_type": "code",
      "source": [
        "def build_simple_cnn(img_rows, img_cols, img_channels, n_classes, dropout_rate, activation):\n",
        "    model = Sequential()\n",
        "    model.add(Conv2D(32, (3, 3), padding='same', input_shape=(img_rows, img_cols, img_channels), activation=activation))\n",
        "    model.add(MaxPooling2D(pool_size=(2, 2)))\n",
        "    model.add(Dropout(dropout_rate))\n",
        "\n",
        "    model.add(Flatten())\n",
        "    model.add(Dense(512, activation=activation))\n",
        "    model.add(Dropout(dropout_rate))\n",
        "\n",
        "    model.add(Dense(n_classes, activation='softmax'))\n",
        "    return model\n",
        "\n",
        "def build_deep_cnn(img_rows, img_cols, img_channels, n_classes, dropout_rate, activation):\n",
        "    model = Sequential()\n",
        "\n",
        "    model.add(Conv2D(32, kernel_size=3, padding='same', input_shape=(img_rows, img_cols, img_channels), activation=activation))\n",
        "    model.add(Conv2D(32, kernel_size=3, padding='same', activation=activation))\n",
        "    model.add(MaxPooling2D(pool_size=(2, 2)))\n",
        "    model.add(Dropout(dropout_rate))\n",
        "\n",
        "    model.add(Conv2D(64, kernel_size=3, padding='same', activation=activation))\n",
        "    model.add(Conv2D(64, kernel_size=3, padding='same', activation=activation))\n",
        "    model.add(MaxPooling2D(pool_size=(2, 2)))\n",
        "    model.add(Dropout(dropout_rate))\n",
        "\n",
        "    model.add(Flatten())\n",
        "    model.add(Dense(512, activation=activation))\n",
        "    model.add(Dropout(dropout_rate))\n",
        "    model.add(Dense(n_classes, activation='softmax'))\n",
        "\n",
        "    return model"
      ],
      "metadata": {
        "id": "DjZe7Mhpfbtu"
      },
      "execution_count": 2,
      "outputs": []
    },
    {
      "cell_type": "code",
      "source": [
        "def plot_training_history(history, title):\n",
        "    fig, (ax1, ax2) = plt.subplots(1, 2, figsize=(12, 4))\n",
        "\n",
        "    ax1.plot(history.history['accuracy'])\n",
        "    ax1.plot(history.history['val_accuracy'])\n",
        "    ax1.set_title(f'{title} - Accuracy')\n",
        "    ax1.set_xlabel('Epoch')\n",
        "    ax1.set_ylabel('Accuracy')\n",
        "    ax1.legend(['train', 'val'], loc='upper left')\n",
        "\n",
        "    ax2.plot(history.history['loss'])\n",
        "    ax2.plot(history.history['val_loss'])\n",
        "    ax2.set_title(f'{title} - Loss')\n",
        "    ax2.set_xlabel('Epoch')\n",
        "    ax2.set_ylabel('Loss')\n",
        "    ax2.legend(['train', 'val'], loc='upper right')\n",
        "\n",
        "    plt.tight_layout()\n",
        "    plt.show()"
      ],
      "metadata": {
        "id": "NYR6ceBLj5Km"
      },
      "execution_count": 3,
      "outputs": []
    },
    {
      "cell_type": "code",
      "source": [
        "# CIFAR_10 is a set of 60K images 32x32 pixels on 3 channels\n",
        "IMG_CHANNELS = 3\n",
        "IMG_ROWS = 32\n",
        "IMG_COLS = 32\n",
        "\n",
        "print('Image variables initialisation')"
      ],
      "metadata": {
        "colab": {
          "base_uri": "https://localhost:8080/"
        },
        "id": "sJUBrCTqyI4f",
        "outputId": "6912cb47-7750-48ab-b5de-f39a3c9397fd"
      },
      "execution_count": 4,
      "outputs": [
        {
          "output_type": "stream",
          "name": "stdout",
          "text": [
            "Image variables initialisation\n"
          ]
        }
      ]
    },
    {
      "cell_type": "code",
      "source": [
        "# Hyperparameters for the deep CNN\n",
        "batch_sizes = [64, 128]\n",
        "dropout_rates = [0.0, 0.2, 0.4]\n",
        "activations = ['relu', 'tanh', 'sigmoid']\n",
        "learning_rates = [0.001, 0.01, 0.1]\n",
        "\n",
        "# Training constants\n",
        "VERBOSE = 1\n",
        "VALIDATION_SPLIT = 0.2\n",
        "N_CLASSES = 10\n",
        "N_EPOCH = 15"
      ],
      "metadata": {
        "id": "QFcsR8kUhTeA"
      },
      "execution_count": 5,
      "outputs": []
    },
    {
      "cell_type": "code",
      "source": [
        "# Load CIFAR-10 dataset\n",
        "(input_X_train, output_y_train), (input_X_test, output_y_test) = cifar10.load_data()\n",
        "print('input_X_train shape:', input_X_train.shape)\n",
        "print(input_X_train.shape[0], 'train samples')\n",
        "print(input_X_test.shape[0], 'test samples')\n",
        "\n",
        "# Preprocess the data\n",
        "input_X_train = input_X_train.astype('float32') / 255\n",
        "input_X_test = input_X_test.astype('float32') / 255\n",
        "output_Y_train = to_categorical(output_y_train, N_CLASSES)\n",
        "output_Y_test = to_categorical(output_y_test, N_CLASSES)"
      ],
      "metadata": {
        "colab": {
          "base_uri": "https://localhost:8080/"
        },
        "id": "1bS-WGFmt6RL",
        "outputId": "a245c8d9-83d2-4542-f6f0-10fdbbfc5201"
      },
      "execution_count": 6,
      "outputs": [
        {
          "output_type": "stream",
          "name": "stdout",
          "text": [
            "Downloading data from https://www.cs.toronto.edu/~kriz/cifar-10-python.tar.gz\n",
            "170498071/170498071 [==============================] - 4s 0us/step\n",
            "input_X_train shape: (50000, 32, 32, 3)\n",
            "50000 train samples\n",
            "10000 test samples\n"
          ]
        }
      ]
    },
    {
      "cell_type": "code",
      "source": [
        "# Train the base model (simple CNN)\n",
        "base_model = build_simple_cnn(IMG_ROWS, IMG_COLS, IMG_CHANNELS, N_CLASSES, dropout_rate=0.0, activation='relu')\n",
        "base_model.compile(loss='categorical_crossentropy', optimizer=RMSprop(learning_rate=0.001), metrics=['accuracy'])\n",
        "base_history = base_model.fit(input_X_train, output_Y_train, batch_size=len(input_X_train), epochs=N_EPOCH, validation_split=VALIDATION_SPLIT, verbose=VERBOSE)\n",
        "base_test_loss, base_test_acc = base_model.evaluate(input_X_test, output_Y_test, verbose=0)\n",
        "print(f\"Base Model Test Accuracy: {base_test_acc:.4f}\")"
      ],
      "metadata": {
        "colab": {
          "base_uri": "https://localhost:8080/"
        },
        "id": "J6GFD8p7fPtO",
        "outputId": "34fd77e5-4698-4b17-855f-a073ee07a15b"
      },
      "execution_count": 7,
      "outputs": [
        {
          "output_type": "stream",
          "name": "stdout",
          "text": [
            "Epoch 1/15\n",
            "1/1 [==============================] - 12s 12s/step - loss: 2.3152 - accuracy: 0.1004 - val_loss: 4.2339 - val_accuracy: 0.1022\n",
            "Epoch 2/15\n",
            "1/1 [==============================] - 1s 597ms/step - loss: 4.2607 - accuracy: 0.0996 - val_loss: 4.1341 - val_accuracy: 0.1265\n",
            "Epoch 3/15\n",
            "1/1 [==============================] - 1s 593ms/step - loss: 4.1362 - accuracy: 0.1225 - val_loss: 3.2443 - val_accuracy: 0.1558\n",
            "Epoch 4/15\n",
            "1/1 [==============================] - 1s 590ms/step - loss: 3.2152 - accuracy: 0.1568 - val_loss: 2.6212 - val_accuracy: 0.1945\n",
            "Epoch 5/15\n",
            "1/1 [==============================] - 1s 592ms/step - loss: 2.5998 - accuracy: 0.1972 - val_loss: 2.3425 - val_accuracy: 0.2260\n",
            "Epoch 6/15\n",
            "1/1 [==============================] - 1s 614ms/step - loss: 2.3293 - accuracy: 0.2288 - val_loss: 2.2222 - val_accuracy: 0.2510\n",
            "Epoch 7/15\n",
            "1/1 [==============================] - 1s 594ms/step - loss: 2.2119 - accuracy: 0.2508 - val_loss: 2.1352 - val_accuracy: 0.2787\n",
            "Epoch 8/15\n",
            "1/1 [==============================] - 1s 597ms/step - loss: 2.1263 - accuracy: 0.2812 - val_loss: 2.0701 - val_accuracy: 0.2981\n",
            "Epoch 9/15\n",
            "1/1 [==============================] - 1s 596ms/step - loss: 2.0603 - accuracy: 0.3064 - val_loss: 2.0231 - val_accuracy: 0.2585\n",
            "Epoch 10/15\n",
            "1/1 [==============================] - 1s 595ms/step - loss: 2.0188 - accuracy: 0.2552 - val_loss: 2.0689 - val_accuracy: 0.2853\n",
            "Epoch 11/15\n",
            "1/1 [==============================] - 1s 596ms/step - loss: 2.0523 - accuracy: 0.2911 - val_loss: 1.9611 - val_accuracy: 0.3166\n",
            "Epoch 12/15\n",
            "1/1 [==============================] - 1s 596ms/step - loss: 1.9547 - accuracy: 0.3177 - val_loss: 2.0587 - val_accuracy: 0.2631\n",
            "Epoch 13/15\n",
            "1/1 [==============================] - 1s 593ms/step - loss: 2.0412 - accuracy: 0.2678 - val_loss: 2.0446 - val_accuracy: 0.2827\n",
            "Epoch 14/15\n",
            "1/1 [==============================] - 1s 595ms/step - loss: 2.0445 - accuracy: 0.2856 - val_loss: 2.0039 - val_accuracy: 0.3212\n",
            "Epoch 15/15\n",
            "1/1 [==============================] - 1s 588ms/step - loss: 1.9873 - accuracy: 0.3309 - val_loss: 1.8954 - val_accuracy: 0.3317\n",
            "Base Model Test Accuracy: 0.3353\n"
          ]
        }
      ]
    },
    {
      "cell_type": "code",
      "source": [
        "# Plot the training history for the base model\n",
        "plot_training_history(base_history, 'Base Model')"
      ],
      "metadata": {
        "colab": {
          "base_uri": "https://localhost:8080/",
          "height": 407
        },
        "id": "Q4jtK754hyuv",
        "outputId": "24e5dd49-235a-4930-8cf4-d6d8e49efcb2"
      },
      "execution_count": 8,
      "outputs": [
        {
          "output_type": "display_data",
          "data": {
            "text/plain": [
              "<Figure size 1200x400 with 2 Axes>"
            ],
            "image/png": "[encoded data removed]"
          },
          "metadata": {}
        }
      ]
    },
    {
      "cell_type": "code",
      "source": [
        "# Hyperparameter tuning for the deep CNN\n",
        "deep_cnn_results = []\n",
        "deep_cnn_histories = []\n",
        "for batch_size in batch_sizes:\n",
        "    for dropout_rate in dropout_rates:\n",
        "        for activation in activations:\n",
        "            for learning_rate in learning_rates:\n",
        "                # Create the deep CNN model with the current hyperparameters\n",
        "                deep_model = build_deep_cnn(IMG_ROWS, IMG_COLS, IMG_CHANNELS, N_CLASSES, dropout_rate, activation)\n",
        "                deep_model.compile(loss='categorical_crossentropy', optimizer=RMSprop(learning_rate=learning_rate), metrics=['accuracy'])\n",
        "\n",
        "                print(f\"\\nTraining Deep CNN with: batch_size={batch_size}, dropout_rate={dropout_rate}, activation='{activation}', learning_rate={learning_rate}\")\n",
        "                deep_history = deep_model.fit(input_X_train, output_Y_train, batch_size=batch_size, epochs=N_EPOCH, validation_split=VALIDATION_SPLIT, verbose=VERBOSE)\n",
        "                deep_cnn_histories.append(deep_history)\n",
        "                deep_test_loss, deep_test_acc = deep_model.evaluate(input_X_test, output_Y_test, verbose=0)\n",
        "                print(f\"Deep CNN Test Accuracy: {deep_test_acc:.4f}\")\n",
        "\n",
        "                # Store the results\n",
        "                deep_cnn_results.append((batch_size, dropout_rate, activation, learning_rate, deep_test_acc))"
      ],
      "metadata": {
        "colab": {
          "base_uri": "https://localhost:8080/"
        },
        "id": "BKDWo1vQvjkK",
        "outputId": "6b2a4106-e39e-4c1a-c6d9-e119a7bd6b2b"
      },
      "execution_count": null,
      "outputs": [
        {
          "output_type": "stream",
          "name": "stdout",
          "text": [
            "\n",
            "Training Deep CNN with: batch_size=64, dropout_rate=0.0, activation='relu', learning_rate=0.001\n",
            "Epoch 1/15\n",
            "625/625 [==============================] - 4s 5ms/step - loss: 1.5623 - accuracy: 0.4395 - val_loss: 1.2354 - val_accuracy: 0.5558\n",
            "Epoch 2/15\n",
            "625/625 [==============================] - 3s 4ms/step - loss: 1.0378 - accuracy: 0.6331 - val_loss: 0.9239 - val_accuracy: 0.6769\n",
            "Epoch 3/15\n",
            "625/625 [==============================] - 3s 4ms/step - loss: 0.7904 - accuracy: 0.7254 - val_loss: 0.8183 - val_accuracy: 0.7176\n",
            "Epoch 4/15\n",
            "625/625 [==============================] - 3s 4ms/step - loss: 0.6035 - accuracy: 0.7900 - val_loss: 0.7756 - val_accuracy: 0.7398\n",
            "Epoch 5/15\n",
            "625/625 [==============================] - 3s 4ms/step - loss: 0.4362 - accuracy: 0.8505 - val_loss: 0.8940 - val_accuracy: 0.7286\n",
            "Epoch 6/15\n",
            "625/625 [==============================] - 3s 4ms/step - loss: 0.3019 - accuracy: 0.8982 - val_loss: 0.9420 - val_accuracy: 0.7470\n",
            "Epoch 7/15\n",
            "625/625 [==============================] - 3s 4ms/step - loss: 0.2016 - accuracy: 0.9312 - val_loss: 1.1331 - val_accuracy: 0.7243\n",
            "Epoch 8/15\n",
            "625/625 [==============================] - 3s 4ms/step - loss: 0.1472 - accuracy: 0.9500 - val_loss: 1.3208 - val_accuracy: 0.7288\n",
            "Epoch 9/15\n",
            "625/625 [==============================] - 3s 4ms/step - loss: 0.1235 - accuracy: 0.9593 - val_loss: 1.4382 - val_accuracy: 0.7324\n",
            "Epoch 10/15\n",
            "625/625 [==============================] - 3s 4ms/step - loss: 0.1100 - accuracy: 0.9636 - val_loss: 1.7668 - val_accuracy: 0.7128\n",
            "Epoch 11/15\n",
            "625/625 [==============================] - 3s 4ms/step - loss: 0.1042 - accuracy: 0.9671 - val_loss: 2.1255 - val_accuracy: 0.7359\n",
            "Epoch 12/15\n",
            "625/625 [==============================] - 3s 4ms/step - loss: 0.0925 - accuracy: 0.9706 - val_loss: 1.9316 - val_accuracy: 0.7400\n",
            "Epoch 13/15\n",
            "625/625 [==============================] - 3s 4ms/step - loss: 0.0976 - accuracy: 0.9710 - val_loss: 2.1080 - val_accuracy: 0.7378\n",
            "Epoch 14/15\n",
            "625/625 [==============================] - 3s 4ms/step - loss: 0.0962 - accuracy: 0.9722 - val_loss: 2.4010 - val_accuracy: 0.7187\n",
            "Epoch 15/15\n",
            "625/625 [==============================] - 3s 4ms/step - loss: 0.0947 - accuracy: 0.9742 - val_loss: 2.2763 - val_accuracy: 0.7233\n",
            "Deep CNN Test Accuracy: 0.7196\n",
            "\n",
            "Training Deep CNN with: batch_size=64, dropout_rate=0.0, activation='relu', learning_rate=0.01\n",
            "Epoch 1/15\n",
            "625/625 [==============================] - 4s 5ms/step - loss: 5.4719 - accuracy: 0.0976 - val_loss: 2.3030 - val_accuracy: 0.1025\n",
            "Epoch 2/15\n",
            "625/625 [==============================] - 2s 4ms/step - loss: 2.3036 - accuracy: 0.0993 - val_loss: 2.3045 - val_accuracy: 0.1003\n",
            "Epoch 3/15\n",
            "625/625 [==============================] - 3s 4ms/step - loss: 2.3036 - accuracy: 0.1013 - val_loss: 2.3031 - val_accuracy: 0.1025\n",
            "Epoch 4/15\n",
            "625/625 [==============================] - 3s 4ms/step - loss: 2.3036 - accuracy: 0.1005 - val_loss: 2.3035 - val_accuracy: 0.1022\n",
            "Epoch 5/15\n",
            "625/625 [==============================] - 3s 4ms/step - loss: 2.3034 - accuracy: 0.1022 - val_loss: 2.3033 - val_accuracy: 0.0980\n",
            "Epoch 6/15\n",
            "625/625 [==============================] - 3s 4ms/step - loss: 2.3038 - accuracy: 0.0988 - val_loss: 2.3034 - val_accuracy: 0.0997\n",
            "Epoch 7/15\n",
            "625/625 [==============================] - 3s 4ms/step - loss: 2.3036 - accuracy: 0.0989 - val_loss: 2.3036 - val_accuracy: 0.0952\n",
            "Epoch 8/15\n",
            "625/625 [==============================] - 3s 4ms/step - loss: 2.3036 - accuracy: 0.0986 - val_loss: 2.3042 - val_accuracy: 0.0997\n",
            "Epoch 9/15\n",
            "625/625 [==============================] - 3s 4ms/step - loss: 2.3036 - accuracy: 0.0993 - val_loss: 2.3040 - val_accuracy: 0.0952\n",
            "Epoch 10/15\n",
            "625/625 [==============================] - 3s 4ms/step - loss: 2.3036 - accuracy: 0.1011 - val_loss: 2.3036 - val_accuracy: 0.0980\n",
            "Epoch 11/15\n",
            "625/625 [==============================] - 3s 4ms/step - loss: 2.3035 - accuracy: 0.0990 - val_loss: 2.3040 - val_accuracy: 0.0952\n",
            "Epoch 12/15\n",
            "625/625 [==============================] - 3s 4ms/step - loss: 2.3036 - accuracy: 0.0999 - val_loss: 2.3030 - val_accuracy: 0.1022\n",
            "Epoch 13/15\n",
            "625/625 [==============================] - 2s 4ms/step - loss: 2.3037 - accuracy: 0.0979 - val_loss: 2.3030 - val_accuracy: 0.1014\n",
            "Epoch 14/15\n",
            "625/625 [==============================] - 2s 4ms/step - loss: 2.3036 - accuracy: 0.0993 - val_loss: 2.3033 - val_accuracy: 0.0997\n",
            "Epoch 15/15\n",
            "625/625 [==============================] - 2s 4ms/step - loss: 2.3036 - accuracy: 0.0978 - val_loss: 2.3031 - val_accuracy: 0.1014\n",
            "Deep CNN Test Accuracy: 0.1000\n",
            "\n",
            "Training Deep CNN with: batch_size=64, dropout_rate=0.0, activation='relu', learning_rate=0.1\n",
            "Epoch 1/15\n",
            "625/625 [==============================] - 4s 5ms/step - loss: 475907.1875 - accuracy: 0.1001 - val_loss: 2.3151 - val_accuracy: 0.1014\n",
            "Epoch 2/15\n",
            "625/625 [==============================] - 3s 4ms/step - loss: 160.7146 - accuracy: 0.0989 - val_loss: 2.3122 - val_accuracy: 0.1025\n",
            "Epoch 3/15\n",
            "625/625 [==============================] - 2s 4ms/step - loss: 2.3120 - accuracy: 0.1001 - val_loss: 2.3155 - val_accuracy: 0.1003\n",
            "Epoch 4/15\n",
            "625/625 [==============================] - 2s 4ms/step - loss: 2.3118 - accuracy: 0.1000 - val_loss: 2.3119 - val_accuracy: 0.0997\n",
            "Epoch 5/15\n",
            "625/625 [==============================] - 3s 4ms/step - loss: 2.3124 - accuracy: 0.1010 - val_loss: 2.3141 - val_accuracy: 0.1003\n",
            "Epoch 6/15\n",
            "625/625 [==============================] - 2s 4ms/step - loss: 2.3124 - accuracy: 0.0999 - val_loss: 2.3068 - val_accuracy: 0.0952\n",
            "Epoch 7/15\n",
            "625/625 [==============================] - 2s 4ms/step - loss: 2.3125 - accuracy: 0.1002 - val_loss: 2.3101 - val_accuracy: 0.1016\n",
            "Epoch 8/15\n",
            "625/625 [==============================] - 3s 4ms/step - loss: 2.3122 - accuracy: 0.1014 - val_loss: 2.3065 - val_accuracy: 0.0997\n",
            "Epoch 9/15\n",
            "625/625 [==============================] - 2s 4ms/step - loss: 2.3126 - accuracy: 0.0977 - val_loss: 2.3131 - val_accuracy: 0.1003\n",
            "Epoch 10/15\n",
            "625/625 [==============================] - 3s 4ms/step - loss: 2.3126 - accuracy: 0.1001 - val_loss: 2.3081 - val_accuracy: 0.1014\n",
            "Epoch 11/15\n",
            "625/625 [==============================] - 3s 4ms/step - loss: 2.3121 - accuracy: 0.1024 - val_loss: 2.3090 - val_accuracy: 0.1014\n",
            "Epoch 12/15\n",
            "625/625 [==============================] - 2s 4ms/step - loss: 2.3120 - accuracy: 0.1003 - val_loss: 2.3182 - val_accuracy: 0.1003\n",
            "Epoch 13/15\n",
            "625/625 [==============================] - 2s 4ms/step - loss: 2.3121 - accuracy: 0.1007 - val_loss: 2.3079 - val_accuracy: 0.0952\n",
            "Epoch 14/15\n",
            "625/625 [==============================] - 3s 4ms/step - loss: 2.3123 - accuracy: 0.0992 - val_loss: 2.3078 - val_accuracy: 0.0980\n",
            "Epoch 15/15\n",
            "625/625 [==============================] - 3s 4ms/step - loss: 2.3122 - accuracy: 0.0997 - val_loss: 2.3129 - val_accuracy: 0.1022\n",
            "Deep CNN Test Accuracy: 0.1000\n",
            "\n",
            "Training Deep CNN with: batch_size=64, dropout_rate=0.0, activation='tanh', learning_rate=0.001\n",
            "Epoch 1/15\n",
            "625/625 [==============================] - 4s 5ms/step - loss: 1.5612 - accuracy: 0.4900 - val_loss: 1.2332 - val_accuracy: 0.5698\n",
            "Epoch 2/15\n",
            "625/625 [==============================] - 3s 4ms/step - loss: 1.0774 - accuracy: 0.6275 - val_loss: 1.0617 - val_accuracy: 0.6320\n",
            "Epoch 3/15\n",
            "625/625 [==============================] - 3s 4ms/step - loss: 0.9248 - accuracy: 0.6816 - val_loss: 1.0877 - val_accuracy: 0.6288\n",
            "Epoch 4/15\n",
            "625/625 [==============================] - 3s 4ms/step - loss: 0.7702 - accuracy: 0.7332 - val_loss: 0.9703 - val_accuracy: 0.6722\n",
            "Epoch 5/15\n",
            "625/625 [==============================] - 3s 4ms/step - loss: 0.5936 - accuracy: 0.7966 - val_loss: 0.9686 - val_accuracy: 0.6856\n",
            "Epoch 6/15\n",
            "625/625 [==============================] - 3s 4ms/step - loss: 0.4062 - accuracy: 0.8627 - val_loss: 1.0283 - val_accuracy: 0.6932\n",
            "Epoch 7/15\n",
            "625/625 [==============================] - 3s 4ms/step - loss: 0.2488 - accuracy: 0.9178 - val_loss: 1.1626 - val_accuracy: 0.6846\n",
            "Epoch 8/15\n",
            "625/625 [==============================] - 3s 4ms/step - loss: 0.1453 - accuracy: 0.9544 - val_loss: 1.2902 - val_accuracy: 0.6847\n",
            "Epoch 9/15\n",
            "625/625 [==============================] - 3s 4ms/step - loss: 0.0931 - accuracy: 0.9714 - val_loss: 1.3802 - val_accuracy: 0.6885\n",
            "Epoch 10/15\n",
            "625/625 [==============================] - 3s 4ms/step - loss: 0.0712 - accuracy: 0.9784 - val_loss: 1.5209 - val_accuracy: 0.6758\n",
            "Epoch 11/15\n",
            "625/625 [==============================] - 3s 4ms/step - loss: 0.0573 - accuracy: 0.9819 - val_loss: 1.6427 - val_accuracy: 0.6708\n",
            "Epoch 12/15\n",
            "625/625 [==============================] - 3s 4ms/step - loss: 0.0515 - accuracy: 0.9840 - val_loss: 1.7378 - val_accuracy: 0.6700\n",
            "Epoch 13/15\n",
            "625/625 [==============================] - 3s 4ms/step - loss: 0.0462 - accuracy: 0.9849 - val_loss: 1.6733 - val_accuracy: 0.6797\n",
            "Epoch 14/15\n",
            "625/625 [==============================] - 3s 4ms/step - loss: 0.0435 - accuracy: 0.9856 - val_loss: 1.7150 - val_accuracy: 0.6870\n",
            "Epoch 15/15\n",
            "625/625 [==============================] - 3s 4ms/step - loss: 0.0423 - accuracy: 0.9866 - val_loss: 1.7814 - val_accuracy: 0.6873\n",
            "Deep CNN Test Accuracy: 0.6799\n",
            "\n",
            "Training Deep CNN with: batch_size=64, dropout_rate=0.0, activation='tanh', learning_rate=0.01\n",
            "Epoch 1/15\n",
            "625/625 [==============================] - 4s 5ms/step - loss: 5.4915 - accuracy: 0.1018 - val_loss: 3.6976 - val_accuracy: 0.1022\n",
            "Epoch 2/15\n",
            "615/625 [============================>.] - ETA: 0s - loss: 5.4123 - accuracy: 0.0997"
          ]
        }
      ]
    },
    {
      "cell_type": "code",
      "source": [
        "# Print the summary of results\n",
        "print(\"\\nDeep CNN Hyperparameter Tuning Results:\")\n",
        "print(\"Batch Size | Dropout Rate | Activation | Learning Rate | Test Accuracy\")\n",
        "for result in deep_cnn_results:\n",
        "    print(f\"{result[0]:11} | {result[1]:12} | {result[2]:10} | {result[3]:13} | {result[4]:.4f}\")\n",
        "\n",
        "# Find the best hyperparameter combination\n",
        "best_result = max(deep_cnn_results, key=lambda x: x[4])\n",
        "best_batch_size, best_dropout_rate, best_activation, best_learning_rate, best_accuracy = best_result\n",
        "\n",
        "print(f\"\\nBest Hyperparameters for Deep CNN:\")\n",
        "print(f\"Batch Size: {best_batch_size}\")\n",
        "print(f\"Dropout Rate: {best_dropout_rate}\")\n",
        "print(f\"Activation: {best_activation}\")\n",
        "print(f\"Learning Rate: {best_learning_rate}\")\n",
        "print(f\"Test Accuracy: {best_accuracy:.4f}\")"
      ],
      "metadata": {
        "colab": {
          "base_uri": "https://localhost:8080/"
        },
        "id": "0mm0-otkALpu",
        "outputId": "4143edb6-9451-48e4-c1ca-4800c77d6c0f"
      },
      "execution_count": 11,
      "outputs": [
        {
          "output_type": "stream",
          "name": "stdout",
          "text": [
            "\n",
            "Deep CNN Hyperparameter Tuning Results:\n",
            "Batch Size | Dropout Rate | Activation | Learning Rate | Test Accuracy\n",
            "         64 |          0.0 | relu       |         0.001 | 0.7208\n",
            "         64 |          0.0 | relu       |          0.01 | 0.1000\n",
            "         64 |          0.0 | relu       |           0.1 | 0.1000\n",
            "         64 |          0.0 | tanh       |         0.001 | 0.7075\n",
            "         64 |          0.0 | tanh       |          0.01 | 0.1000\n",
            "         64 |          0.0 | tanh       |           0.1 | 0.1000\n",
            "         64 |          0.0 | sigmoid    |         0.001 | 0.6192\n",
            "         64 |          0.0 | sigmoid    |          0.01 | 0.1000\n",
            "         64 |          0.0 | sigmoid    |           0.1 | 0.1000\n",
            "         64 |          0.2 | relu       |         0.001 | 0.7704\n",
            "         64 |          0.2 | relu       |          0.01 | 0.1000\n",
            "         64 |          0.2 | relu       |           0.1 | 0.1000\n",
            "         64 |          0.2 | tanh       |         0.001 | 0.7228\n",
            "         64 |          0.2 | tanh       |          0.01 | 0.1000\n",
            "         64 |          0.2 | tanh       |           0.1 | 0.1000\n",
            "         64 |          0.2 | sigmoid    |         0.001 | 0.6234\n",
            "         64 |          0.2 | sigmoid    |          0.01 | 0.1000\n",
            "         64 |          0.2 | sigmoid    |           0.1 | 0.1000\n",
            "         64 |          0.4 | relu       |         0.001 | 0.7480\n",
            "         64 |          0.4 | relu       |          0.01 | 0.1000\n",
            "         64 |          0.4 | relu       |           0.1 | 0.1000\n",
            "         64 |          0.4 | tanh       |         0.001 | 0.7207\n",
            "         64 |          0.4 | tanh       |          0.01 | 0.1000\n",
            "         64 |          0.4 | tanh       |           0.1 | 0.1000\n",
            "         64 |          0.4 | sigmoid    |         0.001 | 0.5714\n",
            "         64 |          0.4 | sigmoid    |          0.01 | 0.1000\n",
            "         64 |          0.4 | sigmoid    |           0.1 | 0.1000\n",
            "        128 |          0.0 | relu       |         0.001 | 0.7136\n",
            "        128 |          0.0 | relu       |          0.01 | 0.1000\n",
            "        128 |          0.0 | relu       |           0.1 | 0.1000\n",
            "        128 |          0.0 | tanh       |         0.001 | 0.6819\n",
            "        128 |          0.0 | tanh       |          0.01 | 0.1000\n",
            "        128 |          0.0 | tanh       |           0.1 | 0.1000\n",
            "        128 |          0.0 | sigmoid    |         0.001 | 0.1000\n",
            "        128 |          0.0 | sigmoid    |          0.01 | 0.1000\n",
            "        128 |          0.0 | sigmoid    |           0.1 | 0.1000\n",
            "        128 |          0.2 | relu       |         0.001 | 0.7675\n",
            "        128 |          0.2 | relu       |          0.01 | 0.1000\n",
            "        128 |          0.2 | relu       |           0.1 | 0.1000\n",
            "        128 |          0.2 | tanh       |         0.001 | 0.7243\n",
            "        128 |          0.2 | tanh       |          0.01 | 0.1000\n",
            "        128 |          0.2 | tanh       |           0.1 | 0.1000\n",
            "        128 |          0.2 | sigmoid    |         0.001 | 0.5670\n",
            "        128 |          0.2 | sigmoid    |          0.01 | 0.1000\n",
            "        128 |          0.2 | sigmoid    |           0.1 | 0.1000\n",
            "        128 |          0.4 | relu       |         0.001 | 0.7229\n",
            "        128 |          0.4 | relu       |          0.01 | 0.1000\n",
            "        128 |          0.4 | relu       |           0.1 | 0.1000\n",
            "        128 |          0.4 | tanh       |         0.001 | 0.7113\n",
            "        128 |          0.4 | tanh       |          0.01 | 0.1000\n",
            "        128 |          0.4 | tanh       |           0.1 | 0.1000\n",
            "        128 |          0.4 | sigmoid    |         0.001 | 0.5660\n",
            "        128 |          0.4 | sigmoid    |          0.01 | 0.1000\n",
            "        128 |          0.4 | sigmoid    |           0.1 | 0.1000\n",
            "\n",
            "Best Hyperparameters for Deep CNN:\n",
            "Batch Size: 64\n",
            "Dropout Rate: 0.2\n",
            "Activation: relu\n",
            "Learning Rate: 0.001\n",
            "Test Accuracy: 0.7704\n"
          ]
        }
      ]
    },
    {
      "cell_type": "code",
      "source": [],
      "metadata": {
        "id": "EJY_FFzORbgV"
      },
      "execution_count": null,
      "outputs": []
    }
  ]
}